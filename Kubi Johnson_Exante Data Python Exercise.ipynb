{
 "cells": [
  {
   "cell_type": "code",
   "execution_count": null,
   "metadata": {},
   "outputs": [],
   "source": [
    "Importing Required packages"
   ]
  },
  {
   "cell_type": "code",
   "execution_count": 18,
   "metadata": {},
   "outputs": [],
   "source": [
    "import pandas as pd\n",
    "import numpy as np"
   ]
  },
  {
   "cell_type": "markdown",
   "metadata": {},
   "source": [
    "Reading Data"
   ]
  },
  {
   "cell_type": "code",
   "execution_count": 67,
   "metadata": {},
   "outputs": [],
   "source": [
    "excel_file = 'exante-python-exercise-data.xlsx'\n",
    "exante = pd.read_excel(excel_file)\n"
   ]
  },
  {
   "cell_type": "markdown",
   "metadata": {},
   "source": [
    "Cleaning the Data"
   ]
  },
  {
   "cell_type": "code",
   "execution_count": 68,
   "metadata": {},
   "outputs": [],
   "source": [
    "exante = exante.pivot_table('value',['date'],'ticker')\n"
   ]
  },
  {
   "cell_type": "code",
   "execution_count": null,
   "metadata": {},
   "outputs": [],
   "source": [
    "Calculate the annual reserves both in level space and in percent of GDP"
   ]
  },
  {
   "cell_type": "code",
   "execution_count": null,
   "metadata": {},
   "outputs": [],
   "source": [
    "def annual_reserves_by_country(df, country_code='',percent_of_GDP=False):\n",
    "    \n",
    "    #Grab relevant columns based on country\n",
    "    #STILL NEED TO ADJUST FOR FREQUENCY\n",
    "    columns = [country_code+'.BOP.CAPACT.N.',\n",
    "              country_code+'.BOP.CURACT.N.',\n",
    "              country_code+'.BOP.FINACT.N.',\n",
    "              country_code+'.BOP.ERROMIS.N.',\n",
    "              country_code+'.GDP.']\n",
    "    \n",
    "    data = df.loc[:,['date',columns]]\n",
    "    \n",
    "    #Create a new reserves column based on BOP math\n",
    "    #CONFIRM IF THIS IS CORRECT APPROACH\n",
    "    \n",
    "    data['reserves'] = data[:,'country_code.BOP.CURACT.N.'] + data[:,'country_code.BOP.ERROMIS.N.'] - data[:,'country_code.BOP.CAPACT.N.'] - data[:,'country_code.BOP.FINACT.N.']\n",
    "                                   \n",
    "    if percent_of_GDP = True: \n",
    "        \n",
    "        series = data['reserves'] / data['country_code.BOP.GDP.N.']\n",
    "        \n",
    "        if else: \n",
    "            \n",
    "            series = data['reserves']\n",
    "\n",
    "    return series"
   ]
  }
 ],
 "metadata": {
  "kernelspec": {
   "display_name": "Python 3",
   "language": "python",
   "name": "python3"
  },
  "language_info": {
   "codemirror_mode": {
    "name": "ipython",
    "version": 3
   },
   "file_extension": ".py",
   "mimetype": "text/x-python",
   "name": "python",
   "nbconvert_exporter": "python",
   "pygments_lexer": "ipython3",
   "version": "3.7.3"
  }
 },
 "nbformat": 4,
 "nbformat_minor": 4
}
